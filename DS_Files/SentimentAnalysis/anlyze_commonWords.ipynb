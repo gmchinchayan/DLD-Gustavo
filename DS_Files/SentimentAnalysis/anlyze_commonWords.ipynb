{
 "cells": [
  {
   "cell_type": "code",
   "execution_count": 211,
   "metadata": {},
   "outputs": [],
   "source": [
    "import pandas as pd\n",
    "import nltk\n",
    "from nltk.corpus import words\n",
    "#nltk.download('words')\n",
    "from vaderSentiment.vaderSentiment import SentimentIntensityAnalyzer\n",
    "import requests\n",
    "import json\n",
    "import matplotlib.pyplot as plt"
   ]
  },
  {
   "cell_type": "code",
   "execution_count": 214,
   "metadata": {},
   "outputs": [],
   "source": [
    "df_words = pd.read_csv(\"sweet_anita280123MostCommonWords.csv\")\n",
    "df_sent = pd.read_csv(\"sweet_anita280123Clean.csv\")"
   ]
  },
  {
   "cell_type": "code",
   "execution_count": 215,
   "metadata": {},
   "outputs": [],
   "source": [
    "# english words\n",
    "word_list = words.words()\n",
    "# get words that are not in common english words\n",
    "unique_words = [word for word in df_words[\"index\"].values if word not in word_list]"
   ]
  },
  {
   "cell_type": "code",
   "execution_count": 216,
   "metadata": {},
   "outputs": [
    {
     "data": {
      "text/plain": [
       "1231"
      ]
     },
     "execution_count": 216,
     "metadata": {},
     "output_type": "execute_result"
    }
   ],
   "source": [
    "len(unique_words)"
   ]
  },
  {
   "cell_type": "code",
   "execution_count": 217,
   "metadata": {},
   "outputs": [
    {
     "data": {
      "text/plain": [
       "1921"
      ]
     },
     "execution_count": 217,
     "metadata": {},
     "output_type": "execute_result"
    }
   ],
   "source": [
    "df_words['index'].nunique()"
   ]
  },
  {
   "cell_type": "code",
   "execution_count": 218,
   "metadata": {},
   "outputs": [],
   "source": [
    "# get emotes \n",
    "emotes = []\n",
    "\n",
    "for page in range(1, 500):  \n",
    "    url = f'https://api.frankerfacez.com/v1/emoticons?limit=50&page={page}'\n",
    "    response = requests.get(url)\n",
    "    data = json.loads(response.text)\n",
    "    emotes.extend(data['emoticons'])"
   ]
  },
  {
   "cell_type": "code",
   "execution_count": 219,
   "metadata": {},
   "outputs": [
    {
     "data": {
      "text/plain": [
       "24950"
      ]
     },
     "execution_count": 219,
     "metadata": {},
     "output_type": "execute_result"
    }
   ],
   "source": [
    "emotes_list=[]\n",
    "for e in emotes:\n",
    "    emotes_list.append(e[\"name\"])\n",
    "len(emotes_list)"
   ]
  },
  {
   "cell_type": "code",
   "execution_count": 220,
   "metadata": {},
   "outputs": [
    {
     "name": "stdout",
     "output_type": "stream",
     "text": [
      "{'KEKW', 'monkaLaugh', 'WeirdChamp', 'Awww', 'LOL', 'FeelsStrongMan', 'Pepog', 'Copium', 'omE', 'SANIC', 'Kekw', 'HOPIUM', 'Weirdchamp', 'IDK', 'Gigachad', 'Hopium', 'widepeepoSad', 'COPIUM', 'Madg', 'Sanic', 'ppL', 'Pogg', 'GIGACHAD', 'Comfi', 'OkayChamp', 'Sadeg', 'HYPE', 'FeelsAmazingMan', 'COPium', 'pepoG', 'GigaChad', 'pepeLaugh', 'Shirley', 'Yess', 'OOOO', 'PepoG', 'POG', 'KOK', 'NOOOO', '4Head', 'gachiGASM', 'Noooo', 'Hype', 'DankG', 'Strongge', 'LoL', 'LMAO', 'pOG', 'Pog', 'Hohoho', 'Ayo', 'dankG', 'Strongi', 'PogG', 'pagMan', 'PagMan', '4HEad', 'Ahhh', 'AYO', 'PepeLaugh', 'monkaHmm', 'Ooooh', 'AYA', 'CatJAM', 'catJam', 'GRUG', 'FRICK', 'VIBE', 'DonkSass'}\n"
     ]
    }
   ],
   "source": [
    "# fetch emotes from unique words\n",
    "common_words = [word for word in emotes_list if word.lower() in unique_words]\n",
    "\n",
    "print(set(common_words))"
   ]
  },
  {
   "cell_type": "code",
   "execution_count": 221,
   "metadata": {},
   "outputs": [],
   "source": [
    "analyser = SentimentIntensityAnalyzer()"
   ]
  },
  {
   "attachments": {},
   "cell_type": "markdown",
   "metadata": {},
   "source": [
    "Added new_emotes to the Lexicon, these are emotes that are unique to only Twitch and its 3rd party"
   ]
  },
  {
   "cell_type": "code",
   "execution_count": 222,
   "metadata": {},
   "outputs": [],
   "source": [
    "new_emotes = {'kekw' : 4.0, \n",
    "              'monkalaugh' : 0.0, \n",
    "              'weirdchamp' : -3.0,\n",
    "              'awww' : 4.0,\n",
    "              'lol' : 4.4,\n",
    "              'feelsstrongman' : -4.0, \n",
    "              'pepog' :  0.0,\n",
    "              'copium' : -3.0,\n",
    "              'ome' : 2.0, \n",
    "              'sanic' : 1.0,\n",
    "              'hopium' : -1.0,\n",
    "              'idk' : 0.0,\n",
    "              'gigachad' : 3.0,\n",
    "              'widepeeposad' : -1.0,\n",
    "              'madg' : -2.0,\n",
    "              'ppl' : 0.0,\n",
    "              'pogg' : 2.0,\n",
    "              'comfi' : 0.0,\n",
    "              'okaychamp' : -2.0,\n",
    "              'hype' : 2.0,\n",
    "              'feelsamazingman' : 3.0,\n",
    "              'pepelaugh' : 2.0,\n",
    "              'shirley' : 0.0,\n",
    "              'yess' : 2.0,\n",
    "              'pog' : 2.0,\n",
    "              'kok' : 1.0,\n",
    "              'noooo' : -2.0,\n",
    "              '4head' : 0.0,\n",
    "              'gachigasm' : 2.0,\n",
    "              'strongge' : -1.0,\n",
    "              'lmao' : 2.0,\n",
    "              'hohoho' : 2.0,\n",
    "              'ayo' : 0.0,\n",
    "              'pagman' : -3.0,\n",
    "              'monkahmm' : 0.0,\n",
    "              'catjam' : 4.0,\n",
    "              'grug' : -3.0,\n",
    "              'frick' : -2.0,\n",
    "              'vibe' : 1.0,\n",
    "              'donksass' : -1.0\n",
    "}"
   ]
  },
  {
   "cell_type": "code",
   "execution_count": 223,
   "metadata": {},
   "outputs": [],
   "source": [
    "analyser.lexicon.update(new_emotes)"
   ]
  },
  {
   "attachments": {},
   "cell_type": "markdown",
   "metadata": {},
   "source": [
    "Polarity scores compute"
   ]
  },
  {
   "cell_type": "code",
   "execution_count": 224,
   "metadata": {},
   "outputs": [
    {
     "data": {
      "text/html": [
       "<div>\n",
       "<style scoped>\n",
       "    .dataframe tbody tr th:only-of-type {\n",
       "        vertical-align: middle;\n",
       "    }\n",
       "\n",
       "    .dataframe tbody tr th {\n",
       "        vertical-align: top;\n",
       "    }\n",
       "\n",
       "    .dataframe thead th {\n",
       "        text-align: right;\n",
       "    }\n",
       "</style>\n",
       "<table border=\"1\" class=\"dataframe\">\n",
       "  <thead>\n",
       "    <tr style=\"text-align: right;\">\n",
       "      <th></th>\n",
       "      <th>Date</th>\n",
       "      <th>Channel</th>\n",
       "      <th>Username</th>\n",
       "      <th>Message</th>\n",
       "      <th>Tag_owner</th>\n",
       "      <th>Cleanest_message</th>\n",
       "    </tr>\n",
       "  </thead>\n",
       "  <tbody>\n",
       "    <tr>\n",
       "      <th>0</th>\n",
       "      <td>2023-01-29 01:29:59</td>\n",
       "      <td>sweet_anita</td>\n",
       "      <td>wadafax</td>\n",
       "      <td>and at the same time we now have technology that reinforces current power structures, like surveillance</td>\n",
       "      <td>0</td>\n",
       "      <td>like</td>\n",
       "    </tr>\n",
       "    <tr>\n",
       "      <th>1</th>\n",
       "      <td>2023-01-29 01:30:00</td>\n",
       "      <td>sweet_anita</td>\n",
       "      <td>iduhknowwhattoput</td>\n",
       "      <td>do you ever appreciate how smart you are</td>\n",
       "      <td>0</td>\n",
       "      <td>smart</td>\n",
       "    </tr>\n",
       "    <tr>\n",
       "      <th>2</th>\n",
       "      <td>2023-01-29 01:30:05</td>\n",
       "      <td>sweet_anita</td>\n",
       "      <td>juiceconnoisseur</td>\n",
       "      <td>YEP kok</td>\n",
       "      <td>0</td>\n",
       "      <td>yep</td>\n",
       "    </tr>\n",
       "    <tr>\n",
       "      <th>3</th>\n",
       "      <td>2023-01-29 01:30:10</td>\n",
       "      <td>sweet_anita</td>\n",
       "      <td>sohnnyjilverhand</td>\n",
       "      <td>yeah it's not the de-facto cause, but it's perhaps a good sign to look out for NODDERS</td>\n",
       "      <td>0</td>\n",
       "      <td>yeah good</td>\n",
       "    </tr>\n",
       "    <tr>\n",
       "      <th>4</th>\n",
       "      <td>2023-01-29 01:30:13</td>\n",
       "      <td>sweet_anita</td>\n",
       "      <td>antman64bit</td>\n",
       "      <td>YEP</td>\n",
       "      <td>0</td>\n",
       "      <td>yep</td>\n",
       "    </tr>\n",
       "  </tbody>\n",
       "</table>\n",
       "</div>"
      ],
      "text/plain": [
       "                  Date       Channel           Username  \\\n",
       "0  2023-01-29 01:29:59  sweet_anita             wadafax   \n",
       "1  2023-01-29 01:30:00  sweet_anita   iduhknowwhattoput   \n",
       "2  2023-01-29 01:30:05  sweet_anita    juiceconnoisseur   \n",
       "3  2023-01-29 01:30:10  sweet_anita    sohnnyjilverhand   \n",
       "4  2023-01-29 01:30:13  sweet_anita         antman64bit   \n",
       "\n",
       "                                                                                                   Message  \\\n",
       "0  and at the same time we now have technology that reinforces current power structures, like surveillance   \n",
       "1                                                                 do you ever appreciate how smart you are   \n",
       "2                                                                                                  YEP kok   \n",
       "3                   yeah it's not the de-facto cause, but it's perhaps a good sign to look out for NODDERS   \n",
       "4                                                                                                      YEP   \n",
       "\n",
       "   Tag_owner Cleanest_message  \n",
       "0          0             like  \n",
       "1          0            smart  \n",
       "2          0              yep  \n",
       "3          0        yeah good  \n",
       "4          0              yep  "
      ]
     },
     "execution_count": 224,
     "metadata": {},
     "output_type": "execute_result"
    }
   ],
   "source": [
    "df_sent.head()"
   ]
  },
  {
   "cell_type": "code",
   "execution_count": 225,
   "metadata": {},
   "outputs": [],
   "source": [
    "df_sent['scores'] = df_sent['Message'].apply(lambda x:analyser.polarity_scores(x))"
   ]
  },
  {
   "cell_type": "code",
   "execution_count": 227,
   "metadata": {},
   "outputs": [
    {
     "data": {
      "text/html": [
       "<div>\n",
       "<style scoped>\n",
       "    .dataframe tbody tr th:only-of-type {\n",
       "        vertical-align: middle;\n",
       "    }\n",
       "\n",
       "    .dataframe tbody tr th {\n",
       "        vertical-align: top;\n",
       "    }\n",
       "\n",
       "    .dataframe thead th {\n",
       "        text-align: right;\n",
       "    }\n",
       "</style>\n",
       "<table border=\"1\" class=\"dataframe\">\n",
       "  <thead>\n",
       "    <tr style=\"text-align: right;\">\n",
       "      <th></th>\n",
       "      <th>Date</th>\n",
       "      <th>Channel</th>\n",
       "      <th>Username</th>\n",
       "      <th>Message</th>\n",
       "      <th>Tag_owner</th>\n",
       "      <th>Cleanest_message</th>\n",
       "      <th>scores</th>\n",
       "    </tr>\n",
       "  </thead>\n",
       "  <tbody>\n",
       "    <tr>\n",
       "      <th>491</th>\n",
       "      <td>2023-01-29 01:58:35</td>\n",
       "      <td>sweet_anita</td>\n",
       "      <td>mabu_jpg</td>\n",
       "      <td>Jamgi :honeybee:</td>\n",
       "      <td>0</td>\n",
       "      <td>honeybee</td>\n",
       "      <td>{'neg': 0.0, 'neu': 1.0, 'pos': 0.0, 'compound': 0.0}</td>\n",
       "    </tr>\n",
       "    <tr>\n",
       "      <th>492</th>\n",
       "      <td>2023-01-29 01:59:56</td>\n",
       "      <td>sweet_anita</td>\n",
       "      <td>iduhknowwhattoput</td>\n",
       "      <td>i think most people don't want to work , so when they are locked in they have commitment and it give them motivation</td>\n",
       "      <td>0</td>\n",
       "      <td>want commit</td>\n",
       "      <td>{'neg': 0.056, 'neu': 0.755, 'pos': 0.189, 'compound': 0.5445}</td>\n",
       "    </tr>\n",
       "  </tbody>\n",
       "</table>\n",
       "</div>"
      ],
      "text/plain": [
       "                    Date       Channel           Username  \\\n",
       "491  2023-01-29 01:58:35  sweet_anita            mabu_jpg   \n",
       "492  2023-01-29 01:59:56  sweet_anita   iduhknowwhattoput   \n",
       "\n",
       "                                                                                                                  Message  \\\n",
       "491                                                                                                      Jamgi :honeybee:   \n",
       "492  i think most people don't want to work , so when they are locked in they have commitment and it give them motivation   \n",
       "\n",
       "     Tag_owner Cleanest_message  \\\n",
       "491          0         honeybee   \n",
       "492          0      want commit   \n",
       "\n",
       "                                                             scores  \n",
       "491           {'neg': 0.0, 'neu': 1.0, 'pos': 0.0, 'compound': 0.0}  \n",
       "492  {'neg': 0.056, 'neu': 0.755, 'pos': 0.189, 'compound': 0.5445}  "
      ]
     },
     "execution_count": 227,
     "metadata": {},
     "output_type": "execute_result"
    }
   ],
   "source": [
    "pd.set_option('display.max_colwidth', 200)\n",
    "df_sent.tail(2)"
   ]
  },
  {
   "attachments": {},
   "cell_type": "markdown",
   "metadata": {},
   "source": [
    "Calculate the total sentiment polarity scores split between Negative, Neutral, and Positive."
   ]
  },
  {
   "cell_type": "code",
   "execution_count": 230,
   "metadata": {},
   "outputs": [
    {
     "data": {
      "text/plain": [
       "{'neg': 0.135, 'neu': 0.596, 'pos': 0.269, 'compound': 0.9707}"
      ]
     },
     "execution_count": 230,
     "metadata": {},
     "output_type": "execute_result"
    }
   ],
   "source": [
    "total=analyser.polarity_scores(df_sent['Cleanest_message'])\n",
    "total"
   ]
  },
  {
   "cell_type": "code",
   "execution_count": 231,
   "metadata": {},
   "outputs": [
    {
     "data": {
      "image/png": "[encoded data removed]",
      "text/plain": [
       "<Figure size 640x480 with 1 Axes>"
      ]
     },
     "metadata": {},
     "output_type": "display_data"
    }
   ],
   "source": [
    "labels = ['negative', 'neutral', 'positive']\n",
    "sizes  = [total['neg'], total['neu'], total['pos']]\n",
    "plt.pie(sizes, labels=labels, autopct='%1.1f%%') # autopct='%1.1f%%' gives you percentages printed in every slice.\n",
    "plt.axis('equal')  # Ensures that pie is drawn as a circle.\n",
    "plt.show()"
   ]
  }
 ],
 "metadata": {
  "kernelspec": {
   "display_name": "Python 3",
   "language": "python",
   "name": "python3"
  },
  "language_info": {
   "codemirror_mode": {
    "name": "ipython",
    "version": 3
   },
   "file_extension": ".py",
   "mimetype": "text/x-python",
   "name": "python",
   "nbconvert_exporter": "python",
   "pygments_lexer": "ipython3",
   "version": "3.9.13 (main, May 23 2022, 22:01:06) \n[GCC 9.4.0]"
  },
  "orig_nbformat": 4,
  "vscode": {
   "interpreter": {
    "hash": "f9f85f796d01129d0dd105a088854619f454435301f6ffec2fea96ecbd9be4ac"
   }
  }
 },
 "nbformat": 4,
 "nbformat_minor": 2
}
